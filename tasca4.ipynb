{
 "cells": [
  {
   "cell_type": "markdown",
   "metadata": {},
   "source": [
    "- Exercici 1\n",
    "Crea una funció que donat un Array d’una dimensió, et faci un resum estadístic bàsic de les dades. Si detecta que l’array té més d’una dimensió, ha de mostrar un missatge d’error."
   ]
  },
  {
   "cell_type": "code",
   "execution_count": 7,
   "metadata": {},
   "outputs": [
    {
     "name": "stdout",
     "output_type": "stream",
     "text": [
      "Población: [ 6 40 94 14 67 45 60 75 94 79] \n",
      "Media: 57.4\n",
      "Mediana: 63.5\n",
      "Moda: [94]\n",
      "Desviación: 29.21711826994579\n",
      "Valor mínimo: 6\n",
      "Valor máximo: 94\n",
      "Rango: 88\n"
     ]
    },
    {
     "ename": "Exception",
     "evalue": "Esta función no acepta arrays de más de una dimensión.",
     "output_type": "error",
     "traceback": [
      "\u001b[1;31m---------------------------------------------------------------------------\u001b[0m",
      "\u001b[1;31mException\u001b[0m                                 Traceback (most recent call last)",
      "\u001b[1;32m<ipython-input-7-c86709bcad72>\u001b[0m in \u001b[0;36m<module>\u001b[1;34m\u001b[0m\n\u001b[0;32m     24\u001b[0m \u001b[0marray2\u001b[0m \u001b[1;33m=\u001b[0m \u001b[0mnp\u001b[0m\u001b[1;33m.\u001b[0m\u001b[0marray\u001b[0m\u001b[1;33m(\u001b[0m\u001b[1;33m[\u001b[0m\u001b[1;33m[\u001b[0m\u001b[1;36m3\u001b[0m\u001b[1;33m,\u001b[0m \u001b[1;36m4\u001b[0m\u001b[1;33m]\u001b[0m\u001b[1;33m,\u001b[0m \u001b[1;33m[\u001b[0m\u001b[1;36m3\u001b[0m\u001b[1;33m,\u001b[0m\u001b[1;36m2\u001b[0m\u001b[1;33m]\u001b[0m\u001b[1;33m]\u001b[0m\u001b[1;33m)\u001b[0m\u001b[1;33m\u001b[0m\u001b[1;33m\u001b[0m\u001b[0m\n\u001b[0;32m     25\u001b[0m \u001b[0mprint\u001b[0m\u001b[1;33m(\u001b[0m\u001b[0mdades_array\u001b[0m\u001b[1;33m(\u001b[0m\u001b[0marray1\u001b[0m\u001b[1;33m)\u001b[0m\u001b[1;33m)\u001b[0m\u001b[1;33m\u001b[0m\u001b[1;33m\u001b[0m\u001b[0m\n\u001b[1;32m---> 26\u001b[1;33m \u001b[0mprint\u001b[0m\u001b[1;33m(\u001b[0m\u001b[0mdades_array\u001b[0m\u001b[1;33m(\u001b[0m\u001b[0marray2\u001b[0m\u001b[1;33m)\u001b[0m\u001b[1;33m)\u001b[0m\u001b[1;33m\u001b[0m\u001b[1;33m\u001b[0m\u001b[0m\n\u001b[0m",
      "\u001b[1;32m<ipython-input-7-c86709bcad72>\u001b[0m in \u001b[0;36mdades_array\u001b[1;34m(arr)\u001b[0m\n\u001b[0;32m      5\u001b[0m \u001b[1;32mdef\u001b[0m \u001b[0mdades_array\u001b[0m\u001b[1;33m(\u001b[0m\u001b[0marr\u001b[0m\u001b[1;33m)\u001b[0m\u001b[1;33m:\u001b[0m\u001b[1;33m\u001b[0m\u001b[1;33m\u001b[0m\u001b[0m\n\u001b[0;32m      6\u001b[0m     \u001b[1;32mif\u001b[0m \u001b[0marr\u001b[0m\u001b[1;33m.\u001b[0m\u001b[0mndim\u001b[0m \u001b[1;33m>\u001b[0m \u001b[1;36m1\u001b[0m\u001b[1;33m:\u001b[0m\u001b[1;33m\u001b[0m\u001b[1;33m\u001b[0m\u001b[0m\n\u001b[1;32m----> 7\u001b[1;33m         \u001b[1;32mraise\u001b[0m \u001b[0mException\u001b[0m\u001b[1;33m(\u001b[0m\u001b[1;34m\"Esta función no acepta arrays de más de una dimensión.\"\u001b[0m\u001b[1;33m)\u001b[0m\u001b[1;33m\u001b[0m\u001b[1;33m\u001b[0m\u001b[0m\n\u001b[0m\u001b[0;32m      8\u001b[0m \u001b[1;33m\u001b[0m\u001b[0m\n\u001b[0;32m      9\u001b[0m     \u001b[0mpoblacio\u001b[0m \u001b[1;33m=\u001b[0m \u001b[0marr\u001b[0m\u001b[1;33m\u001b[0m\u001b[1;33m\u001b[0m\u001b[0m\n",
      "\u001b[1;31mException\u001b[0m: Esta función no acepta arrays de más de una dimensión."
     ]
    }
   ],
   "source": [
    "import numpy as np\n",
    "from numpy import random\n",
    "from scipy import stats\n",
    "\n",
    "def dades_array(arr):\n",
    "    if arr.ndim > 1:\n",
    "        raise Exception(\"Esta función no acepta arrays de más de una dimensión.\")\n",
    "    \n",
    "    poblacio = arr\n",
    "    media = np.mean(arr)\n",
    "    mediana = np.median(arr)\n",
    "    moda = stats.mode(arr, axis=None).mode\n",
    "    desviacion = np.std(arr)\n",
    "    val_min = np.min(arr)\n",
    "    val_max = np.max(arr)\n",
    "    rango = np.max(arr) - np.min(arr)\n",
    "    \n",
    "    dades = (f\"Población: {poblacio} \\nMedia: {media}\\nMediana: {mediana}\\nModa: {moda}\\nDesviación: {desviacion}\" +\n",
    "             f\"\\nValor mínimo: {val_min}\\nValor máximo: {val_max}\\nRango: {rango}\")\n",
    "    return dades\n",
    "\n",
    "funcio = np.frompyfunc(dades_array, 1, 1)\n",
    "array1 = random.randint(100, size=(10))\n",
    "array2 = np.array([[3, 4], [3,2]])\n",
    "print(dades_array(array1))\n",
    "print(dades_array(array2))"
   ]
  },
  {
   "cell_type": "markdown",
   "metadata": {},
   "source": [
    "- Exercici 2\n",
    "Crea una funció que et generi un quadrat NxN de nombres aleatoris entre el 0 i el 100."
   ]
  },
  {
   "cell_type": "code",
   "execution_count": 15,
   "metadata": {},
   "outputs": [
    {
     "name": "stdout",
     "output_type": "stream",
     "text": [
      "[[69 44 93 38 56]\n",
      " [73  1 40 97 63]\n",
      " [28 96 60 83 41]\n",
      " [67 95 58 85 58]\n",
      " [56 33 90 10 42]]\n"
     ]
    }
   ],
   "source": [
    "import numpy as np\n",
    "from numpy import random\n",
    "\n",
    "def quadrat_random(n):\n",
    "    cuadrat = random.randint(100, size=(n, n))\n",
    "    return cuadrat\n",
    "\n",
    "func = np.frompyfunc(quadrat_random, 1, 1)\n",
    "print(quadrat_random(5))"
   ]
  },
  {
   "cell_type": "markdown",
   "metadata": {},
   "source": [
    "- Exercici 3\n",
    "Crea una funció que donada una taula de dues dimensions, et calculi els totals per fila i els totals per columna."
   ]
  },
  {
   "cell_type": "code",
   "execution_count": 18,
   "metadata": {},
   "outputs": [
    {
     "name": "stdout",
     "output_type": "stream",
     "text": [
      "[[1 4 0 3 2]\n",
      " [1 1 7 8 0]\n",
      " [0 2 7 6 7]\n",
      " [2 4 6 2 3]\n",
      " [6 1 3 9 2]]\n",
      "Total columnas: [10 12 23 28 14] \n",
      "Total filas: [10 17 22 17 21]\n"
     ]
    }
   ],
   "source": [
    "import numpy as np\n",
    "from numpy import random\n",
    "\n",
    "def totals(arr):\n",
    "    if arr.ndim != 2:\n",
    "        raise Exception(\"Necessitem una taula de dues dimensions!\")\n",
    "    calculs = (f\"Total columnas: {np.sum(arr, axis=0)} \\nTotal filas: {np.sum(arr, axis=1)}\")\n",
    "    return calculs\n",
    "\n",
    "func = np.frompyfunc(totals, 1, 1)\n",
    "arr1 = random.randint(10, size=(5, 5))\n",
    "print(arr1)\n",
    "print(totals(arr1))"
   ]
  },
  {
   "cell_type": "markdown",
   "metadata": {},
   "source": [
    "- Exercici 4\n",
    "Implementa manualment una funció que calculi el coeficient de correlació. Informa’t-en sobre els seus usos i interpretació."
   ]
  },
  {
   "cell_type": "code",
   "execution_count": 24,
   "metadata": {},
   "outputs": [
    {
     "name": "stdout",
     "output_type": "stream",
     "text": [
      "El coeficiente de correlación es igual a 1.0\n",
      "Si el coeficiente de correlación es igual a 1 o -1 significa que hay una relación lineal perfecta entre las variables. \n",
      "Como podemos ver a continuación:\n"
     ]
    },
    {
     "data": {
      "image/png": "[encoded data removed]",
      "text/plain": [
       "<Figure size 432x288 with 1 Axes>"
      ]
     },
     "metadata": {
      "needs_background": "light"
     },
     "output_type": "display_data"
    }
   ],
   "source": [
    "import numpy as np\n",
    "import matplotlib.pyplot as plt\n",
    "\n",
    "#recibe un array de los valores de X y un array de los valores de Y, el output es el coeficiente de correlación\n",
    "def co_correlacio(x, y):\n",
    "    desviacions_x = []\n",
    "    desviacions_y = []\n",
    "    media_x = np.mean(x)\n",
    "    media_y = np.mean(y)\n",
    "    for num in x:\n",
    "        desviacions_x.append(num - media_x)\n",
    "    for num in y:\n",
    "        desviacions_y.append(num - media_y)\n",
    "        \n",
    "    #ecuación del coeficiente de correlación\n",
    "    numerador_equacio = np.sum(np.multiply(desviacions_x, desviacions_y))\n",
    "    denominador_equacio = np.sqrt(np.sum(np.power(desviacions_x, 2))*np.sum((np.power(desviacions_y, 2))))\n",
    "    return numerador_equacio / denominador_equacio\n",
    "    \n",
    "\n",
    "correlacio = np.frompyfunc(co_correlacio, 2, 1)\n",
    "arrX = np.array([3, 6 , 9])\n",
    "arrY = np.array([70, 75, 80])\n",
    "\n",
    "print('El coeficiente de correlación es igual a', co_correlacio(arrX, arrY))\n",
    "print('Si el coeficiente de correlación es igual a 1 o -1 significa que hay una relación lineal perfecta entre las variables. \\nComo podemos ver a continuación:')\n",
    "plt.plot(arrX, arrY, marker = 'o')\n",
    "plt.show()\n"
   ]
  }
 ],
 "metadata": {
  "kernelspec": {
   "display_name": "Python 3",
   "language": "python",
   "name": "python3"
  },
  "language_info": {
   "codemirror_mode": {
    "name": "ipython",
    "version": 3
   },
   "file_extension": ".py",
   "mimetype": "text/x-python",
   "name": "python",
   "nbconvert_exporter": "python",
   "pygments_lexer": "ipython3",
   "version": "3.8.5"
  }
 },
 "nbformat": 4,
 "nbformat_minor": 4
}
